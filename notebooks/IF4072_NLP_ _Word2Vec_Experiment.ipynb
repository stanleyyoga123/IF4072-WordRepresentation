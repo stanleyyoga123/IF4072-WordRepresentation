{
  "nbformat": 4,
  "nbformat_minor": 0,
  "metadata": {
    "colab": {
      "name": "IF4072-NLP | Word2Vec Experiment.ipynb",
      "provenance": [],
      "collapsed_sections": []
    },
    "kernelspec": {
      "name": "python3",
      "display_name": "Python 3"
    },
    "language_info": {
      "name": "python"
    },
    "accelerator": "GPU"
  },
  "cells": [
    {
      "cell_type": "markdown",
      "metadata": {
        "id": "IJZXs_seufSo"
      },
      "source": [
        "## Sanity Check"
      ]
    },
    {
      "cell_type": "code",
      "metadata": {
        "id": "riHGw5XaJYZV"
      },
      "source": [
        "#% cd ../content"
      ],
      "execution_count": null,
      "outputs": []
    },
    {
      "cell_type": "code",
      "metadata": {
        "colab": {
          "base_uri": "https://localhost:8080/"
        },
        "id": "CpYelJQg5TcR",
        "outputId": "051dc790-28f0-4707-d220-75747e63809e"
      },
      "source": [
        "!ssh-keygen -t rsa -b 4096\n",
        "!ssh-keyscan -t rsa github.com >> ~/.ssh/known_hosts\n",
        "!cat /root/.ssh/id_rsa.pub > rsa.txt"
      ],
      "execution_count": 1,
      "outputs": [
        {
          "output_type": "stream",
          "name": "stdout",
          "text": [
            "Generating public/private rsa key pair.\n",
            "Enter file in which to save the key (/root/.ssh/id_rsa): \n",
            "Created directory '/root/.ssh'.\n",
            "Enter passphrase (empty for no passphrase): \n",
            "Enter same passphrase again: \n",
            "Your identification has been saved in /root/.ssh/id_rsa.\n",
            "Your public key has been saved in /root/.ssh/id_rsa.pub.\n",
            "The key fingerprint is:\n",
            "SHA256:Bc0+x+SUhHoAkhnaOOrZXbwrT6Lk4S2ffq7V183mEQA root@34645b00e889\n",
            "The key's randomart image is:\n",
            "+---[RSA 4096]----+\n",
            "|    o+...o E..   |\n",
            "|   +o.  ..+ =    |\n",
            "|  + .    +.= .   |\n",
            "| . .  . ..+ + .  |\n",
            "|.      oS. o   . |\n",
            "|. o . . o   . o .|\n",
            "| o + o + . . . = |\n",
            "|  +.+.=.. .   o .|\n",
            "|   ++**+       . |\n",
            "+----[SHA256]-----+\n",
            "# github.com:22 SSH-2.0-babeld-a3fae306\n"
          ]
        }
      ]
    },
    {
      "cell_type": "code",
      "metadata": {
        "colab": {
          "base_uri": "https://localhost:8080/"
        },
        "id": "fALQh7nIBtFT",
        "outputId": "6c587921-1bbf-4e2d-bdb0-e98f1b1df31d"
      },
      "source": [
        "!ssh -T git@github.com"
      ],
      "execution_count": 2,
      "outputs": [
        {
          "output_type": "stream",
          "name": "stdout",
          "text": [
            "\n",
            "Warning: Permanently added the RSA host key for IP address '140.82.112.4' to the list of known hosts.\r\n",
            "Hi William9923! You've successfully authenticated, but GitHub does not provide shell access.\n"
          ]
        }
      ]
    },
    {
      "cell_type": "code",
      "metadata": {
        "colab": {
          "base_uri": "https://localhost:8080/"
        },
        "id": "tseeh-i06w8S",
        "outputId": "0403861b-42de-41b0-e8aa-3fb807c11ea4"
      },
      "source": [
        "!git clone git@github.com:stanleyyoga123/IF4072-WordRepresentation.git"
      ],
      "execution_count": 3,
      "outputs": [
        {
          "output_type": "stream",
          "name": "stdout",
          "text": [
            "Cloning into 'IF4072-WordRepresentation'...\n",
            "Warning: Permanently added the RSA host key for IP address '140.82.113.4' to the list of known hosts.\n",
            "remote: Enumerating objects: 220, done.\u001b[K\n",
            "remote: Counting objects: 100% (220/220), done.\u001b[K\n",
            "remote: Compressing objects: 100% (137/137), done.\u001b[K\n",
            "remote: Total 220 (delta 130), reused 164 (delta 78), pack-reused 0\u001b[K\n",
            "Receiving objects: 100% (220/220), 88.82 KiB | 3.06 MiB/s, done.\n",
            "Resolving deltas: 100% (130/130), done.\n"
          ]
        }
      ]
    },
    {
      "cell_type": "code",
      "metadata": {
        "colab": {
          "base_uri": "https://localhost:8080/"
        },
        "id": "I6RawBC23Igl",
        "outputId": "856c03a2-75cf-463f-8425-3420ef4aebc3"
      },
      "source": [
        "%cd IF4072-WordRepresentation/\n",
        "!git checkout -b develop\n",
        "!git pull origin develop\n",
        "!mkdir bin/w2v\n",
        "!cp ../drive/MyDrive/NLP/data/* data"
      ],
      "execution_count": 4,
      "outputs": [
        {
          "output_type": "stream",
          "name": "stdout",
          "text": [
            "/content/IF4072-WordRepresentation\n",
            "Switched to a new branch 'feature/word2vec-no-context'\n",
            "Warning: Permanently added the RSA host key for IP address '140.82.113.3' to the list of known hosts.\n",
            "From github.com:stanleyyoga123/IF4072-WordRepresentation\n",
            " * branch            feature/word2vec-no-context -> FETCH_HEAD\n",
            "Already up to date.\n"
          ]
        }
      ]
    },
    {
      "cell_type": "code",
      "metadata": {
        "colab": {
          "base_uri": "https://localhost:8080/"
        },
        "id": "tQTQ3rLTaaYU",
        "outputId": "36aa38ba-1348-484e-bc9c-efd88161d6a0"
      },
      "source": [
        "!ls"
      ],
      "execution_count": 9,
      "outputs": [
        {
          "output_type": "stream",
          "name": "stdout",
          "text": [
            "bin   main.py\t README.md\t   run-w2v-example.sh  src\n",
            "data  notebooks  requirements.txt  run-w2v.sh\n"
          ]
        }
      ]
    },
    {
      "cell_type": "code",
      "metadata": {
        "id": "KHe9PG_nC1W4"
      },
      "source": [
        "# Install the python version\n",
        "!apt-get install python3.9"
      ],
      "execution_count": null,
      "outputs": []
    },
    {
      "cell_type": "code",
      "metadata": {
        "id": "T0Uvyo09C3gZ",
        "colab": {
          "base_uri": "https://localhost:8080/",
          "height": 1000
        },
        "outputId": "e68f431f-755b-48a5-cb28-b5d40b6e0fed"
      },
      "source": [
        "!pip install -r requirements.txt\n",
        "\n",
        "# Notes : Need to restart runtime"
      ],
      "execution_count": 7,
      "outputs": [
        {
          "output_type": "stream",
          "name": "stdout",
          "text": [
            "Collecting gensim==4.1.2\n",
            "  Downloading gensim-4.1.2-cp37-cp37m-manylinux_2_12_x86_64.manylinux2010_x86_64.whl (24.1 MB)\n",
            "\u001b[K     |████████████████████████████████| 24.1 MB 2.6 kB/s \n",
            "\u001b[?25hRequirement already satisfied: ipython-genutils==0.2.0 in /usr/local/lib/python3.7/dist-packages (from -r requirements.txt (line 2)) (0.2.0)\n",
            "Requirement already satisfied: keras==2.6.0 in /usr/local/lib/python3.7/dist-packages (from -r requirements.txt (line 3)) (2.6.0)\n",
            "Requirement already satisfied: Keras-Preprocessing==1.1.2 in /usr/local/lib/python3.7/dist-packages (from -r requirements.txt (line 4)) (1.1.2)\n",
            "Collecting nltk==3.6.2\n",
            "  Downloading nltk-3.6.2-py3-none-any.whl (1.5 MB)\n",
            "\u001b[K     |████████████████████████████████| 1.5 MB 43.9 MB/s \n",
            "\u001b[?25hRequirement already satisfied: numpy==1.19.5 in /usr/local/lib/python3.7/dist-packages (from -r requirements.txt (line 6)) (1.19.5)\n",
            "Collecting pandas==1.2.1\n",
            "  Downloading pandas-1.2.1-cp37-cp37m-manylinux1_x86_64.whl (9.9 MB)\n",
            "\u001b[K     |████████████████████████████████| 9.9 MB 41.3 MB/s \n",
            "\u001b[?25hCollecting regex==2021.4.4\n",
            "  Downloading regex-2021.4.4-cp37-cp37m-manylinux2014_x86_64.whl (720 kB)\n",
            "\u001b[K     |████████████████████████████████| 720 kB 39.0 MB/s \n",
            "\u001b[?25hCollecting scikit-learn==0.24.2\n",
            "  Downloading scikit_learn-0.24.2-cp37-cp37m-manylinux2010_x86_64.whl (22.3 MB)\n",
            "\u001b[K     |████████████████████████████████| 22.3 MB 26 kB/s \n",
            "\u001b[?25hCollecting scipy==1.6.3\n",
            "  Downloading scipy-1.6.3-cp37-cp37m-manylinux1_x86_64.whl (27.4 MB)\n",
            "\u001b[K     |████████████████████████████████| 27.4 MB 100 kB/s \n",
            "\u001b[?25hCollecting spacy==3.0.6\n",
            "  Downloading spacy-3.0.6-cp37-cp37m-manylinux2014_x86_64.whl (12.8 MB)\n",
            "\u001b[K     |████████████████████████████████| 12.8 MB 76 kB/s \n",
            "\u001b[?25hCollecting spacy-legacy==3.0.5\n",
            "  Downloading spacy_legacy-3.0.5-py2.py3-none-any.whl (12 kB)\n",
            "Requirement already satisfied: tensorboard==2.6.0 in /usr/local/lib/python3.7/dist-packages (from -r requirements.txt (line 13)) (2.6.0)\n",
            "Requirement already satisfied: tensorboard-data-server==0.6.1 in /usr/local/lib/python3.7/dist-packages (from -r requirements.txt (line 14)) (0.6.1)\n",
            "Requirement already satisfied: tensorboard-plugin-wit==1.8.0 in /usr/local/lib/python3.7/dist-packages (from -r requirements.txt (line 15)) (1.8.0)\n",
            "Requirement already satisfied: tensorflow==2.6.0 in /usr/local/lib/python3.7/dist-packages (from -r requirements.txt (line 16)) (2.6.0)\n",
            "Requirement already satisfied: tensorflow-estimator==2.6.0 in /usr/local/lib/python3.7/dist-packages (from -r requirements.txt (line 17)) (2.6.0)\n",
            "Requirement already satisfied: textblob==0.15.3 in /usr/local/lib/python3.7/dist-packages (from -r requirements.txt (line 18)) (0.15.3)\n",
            "Collecting tqdm==4.61.0\n",
            "  Downloading tqdm-4.61.0-py2.py3-none-any.whl (75 kB)\n",
            "\u001b[K     |████████████████████████████████| 75 kB 3.7 MB/s \n",
            "\u001b[?25hRequirement already satisfied: smart-open>=1.8.1 in /usr/local/lib/python3.7/dist-packages (from gensim==4.1.2->-r requirements.txt (line 1)) (5.2.1)\n",
            "Requirement already satisfied: six>=1.9.0 in /usr/local/lib/python3.7/dist-packages (from Keras-Preprocessing==1.1.2->-r requirements.txt (line 4)) (1.15.0)\n",
            "Requirement already satisfied: click in /usr/local/lib/python3.7/dist-packages (from nltk==3.6.2->-r requirements.txt (line 5)) (7.1.2)\n",
            "Requirement already satisfied: joblib in /usr/local/lib/python3.7/dist-packages (from nltk==3.6.2->-r requirements.txt (line 5)) (1.0.1)\n",
            "Requirement already satisfied: python-dateutil>=2.7.3 in /usr/local/lib/python3.7/dist-packages (from pandas==1.2.1->-r requirements.txt (line 7)) (2.8.2)\n",
            "Requirement already satisfied: pytz>=2017.3 in /usr/local/lib/python3.7/dist-packages (from pandas==1.2.1->-r requirements.txt (line 7)) (2018.9)\n",
            "Collecting threadpoolctl>=2.0.0\n",
            "  Downloading threadpoolctl-2.2.0-py3-none-any.whl (12 kB)\n",
            "Requirement already satisfied: murmurhash<1.1.0,>=0.28.0 in /usr/local/lib/python3.7/dist-packages (from spacy==3.0.6->-r requirements.txt (line 11)) (1.0.5)\n",
            "Collecting thinc<8.1.0,>=8.0.3\n",
            "  Downloading thinc-8.0.10-cp37-cp37m-manylinux_2_17_x86_64.manylinux2014_x86_64.whl (623 kB)\n",
            "\u001b[K     |████████████████████████████████| 623 kB 33.2 MB/s \n",
            "\u001b[?25hCollecting pydantic<1.8.0,>=1.7.1\n",
            "  Downloading pydantic-1.7.4-cp37-cp37m-manylinux2014_x86_64.whl (9.1 MB)\n",
            "\u001b[K     |████████████████████████████████| 9.1 MB 21.9 MB/s \n",
            "\u001b[?25hCollecting typer<0.4.0,>=0.3.0\n",
            "  Downloading typer-0.3.2-py3-none-any.whl (21 kB)\n",
            "Collecting catalogue<2.1.0,>=2.0.3\n",
            "  Downloading catalogue-2.0.6-py3-none-any.whl (17 kB)\n",
            "Requirement already satisfied: blis<0.8.0,>=0.4.0 in /usr/local/lib/python3.7/dist-packages (from spacy==3.0.6->-r requirements.txt (line 11)) (0.4.1)\n",
            "Requirement already satisfied: packaging>=20.0 in /usr/local/lib/python3.7/dist-packages (from spacy==3.0.6->-r requirements.txt (line 11)) (21.0)\n",
            "Requirement already satisfied: wasabi<1.1.0,>=0.8.1 in /usr/local/lib/python3.7/dist-packages (from spacy==3.0.6->-r requirements.txt (line 11)) (0.8.2)\n",
            "Requirement already satisfied: setuptools in /usr/local/lib/python3.7/dist-packages (from spacy==3.0.6->-r requirements.txt (line 11)) (57.4.0)\n",
            "Collecting pathy>=0.3.5\n",
            "  Downloading pathy-0.6.0-py3-none-any.whl (42 kB)\n",
            "\u001b[K     |████████████████████████████████| 42 kB 1.4 MB/s \n",
            "\u001b[?25hRequirement already satisfied: requests<3.0.0,>=2.13.0 in /usr/local/lib/python3.7/dist-packages (from spacy==3.0.6->-r requirements.txt (line 11)) (2.23.0)\n",
            "Requirement already satisfied: preshed<3.1.0,>=3.0.2 in /usr/local/lib/python3.7/dist-packages (from spacy==3.0.6->-r requirements.txt (line 11)) (3.0.5)\n",
            "Requirement already satisfied: jinja2 in /usr/local/lib/python3.7/dist-packages (from spacy==3.0.6->-r requirements.txt (line 11)) (2.11.3)\n",
            "Collecting srsly<3.0.0,>=2.4.1\n",
            "  Downloading srsly-2.4.1-cp37-cp37m-manylinux2014_x86_64.whl (456 kB)\n",
            "\u001b[K     |████████████████████████████████| 456 kB 40.6 MB/s \n",
            "\u001b[?25hRequirement already satisfied: cymem<2.1.0,>=2.0.2 in /usr/local/lib/python3.7/dist-packages (from spacy==3.0.6->-r requirements.txt (line 11)) (2.0.5)\n",
            "Requirement already satisfied: typing-extensions<4.0.0.0,>=3.7.4 in /usr/local/lib/python3.7/dist-packages (from spacy==3.0.6->-r requirements.txt (line 11)) (3.7.4.3)\n",
            "Requirement already satisfied: absl-py>=0.4 in /usr/local/lib/python3.7/dist-packages (from tensorboard==2.6.0->-r requirements.txt (line 13)) (0.12.0)\n",
            "Requirement already satisfied: markdown>=2.6.8 in /usr/local/lib/python3.7/dist-packages (from tensorboard==2.6.0->-r requirements.txt (line 13)) (3.3.4)\n",
            "Requirement already satisfied: wheel>=0.26 in /usr/local/lib/python3.7/dist-packages (from tensorboard==2.6.0->-r requirements.txt (line 13)) (0.37.0)\n",
            "Requirement already satisfied: grpcio>=1.24.3 in /usr/local/lib/python3.7/dist-packages (from tensorboard==2.6.0->-r requirements.txt (line 13)) (1.40.0)\n",
            "Requirement already satisfied: werkzeug>=0.11.15 in /usr/local/lib/python3.7/dist-packages (from tensorboard==2.6.0->-r requirements.txt (line 13)) (1.0.1)\n",
            "Requirement already satisfied: google-auth-oauthlib<0.5,>=0.4.1 in /usr/local/lib/python3.7/dist-packages (from tensorboard==2.6.0->-r requirements.txt (line 13)) (0.4.6)\n",
            "Requirement already satisfied: google-auth<2,>=1.6.3 in /usr/local/lib/python3.7/dist-packages (from tensorboard==2.6.0->-r requirements.txt (line 13)) (1.35.0)\n",
            "Requirement already satisfied: protobuf>=3.6.0 in /usr/local/lib/python3.7/dist-packages (from tensorboard==2.6.0->-r requirements.txt (line 13)) (3.17.3)\n",
            "Requirement already satisfied: flatbuffers~=1.12.0 in /usr/local/lib/python3.7/dist-packages (from tensorflow==2.6.0->-r requirements.txt (line 16)) (1.12)\n",
            "Requirement already satisfied: gast==0.4.0 in /usr/local/lib/python3.7/dist-packages (from tensorflow==2.6.0->-r requirements.txt (line 16)) (0.4.0)\n",
            "Requirement already satisfied: wrapt~=1.12.1 in /usr/local/lib/python3.7/dist-packages (from tensorflow==2.6.0->-r requirements.txt (line 16)) (1.12.1)\n",
            "Requirement already satisfied: termcolor~=1.1.0 in /usr/local/lib/python3.7/dist-packages (from tensorflow==2.6.0->-r requirements.txt (line 16)) (1.1.0)\n",
            "Requirement already satisfied: astunparse~=1.6.3 in /usr/local/lib/python3.7/dist-packages (from tensorflow==2.6.0->-r requirements.txt (line 16)) (1.6.3)\n",
            "Requirement already satisfied: opt-einsum~=3.3.0 in /usr/local/lib/python3.7/dist-packages (from tensorflow==2.6.0->-r requirements.txt (line 16)) (3.3.0)\n",
            "Requirement already satisfied: clang~=5.0 in /usr/local/lib/python3.7/dist-packages (from tensorflow==2.6.0->-r requirements.txt (line 16)) (5.0)\n",
            "Requirement already satisfied: google-pasta~=0.2 in /usr/local/lib/python3.7/dist-packages (from tensorflow==2.6.0->-r requirements.txt (line 16)) (0.2.0)\n",
            "Requirement already satisfied: h5py~=3.1.0 in /usr/local/lib/python3.7/dist-packages (from tensorflow==2.6.0->-r requirements.txt (line 16)) (3.1.0)\n",
            "Requirement already satisfied: zipp>=0.5 in /usr/local/lib/python3.7/dist-packages (from catalogue<2.1.0,>=2.0.3->spacy==3.0.6->-r requirements.txt (line 11)) (3.5.0)\n",
            "Requirement already satisfied: rsa<5,>=3.1.4 in /usr/local/lib/python3.7/dist-packages (from google-auth<2,>=1.6.3->tensorboard==2.6.0->-r requirements.txt (line 13)) (4.7.2)\n",
            "Requirement already satisfied: cachetools<5.0,>=2.0.0 in /usr/local/lib/python3.7/dist-packages (from google-auth<2,>=1.6.3->tensorboard==2.6.0->-r requirements.txt (line 13)) (4.2.2)\n",
            "Requirement already satisfied: pyasn1-modules>=0.2.1 in /usr/local/lib/python3.7/dist-packages (from google-auth<2,>=1.6.3->tensorboard==2.6.0->-r requirements.txt (line 13)) (0.2.8)\n",
            "Requirement already satisfied: requests-oauthlib>=0.7.0 in /usr/local/lib/python3.7/dist-packages (from google-auth-oauthlib<0.5,>=0.4.1->tensorboard==2.6.0->-r requirements.txt (line 13)) (1.3.0)\n",
            "Requirement already satisfied: cached-property in /usr/local/lib/python3.7/dist-packages (from h5py~=3.1.0->tensorflow==2.6.0->-r requirements.txt (line 16)) (1.5.2)\n",
            "Requirement already satisfied: importlib-metadata in /usr/local/lib/python3.7/dist-packages (from markdown>=2.6.8->tensorboard==2.6.0->-r requirements.txt (line 13)) (4.8.1)\n",
            "Requirement already satisfied: pyparsing>=2.0.2 in /usr/local/lib/python3.7/dist-packages (from packaging>=20.0->spacy==3.0.6->-r requirements.txt (line 11)) (2.4.7)\n",
            "Requirement already satisfied: pyasn1<0.5.0,>=0.4.6 in /usr/local/lib/python3.7/dist-packages (from pyasn1-modules>=0.2.1->google-auth<2,>=1.6.3->tensorboard==2.6.0->-r requirements.txt (line 13)) (0.4.8)\n",
            "Requirement already satisfied: chardet<4,>=3.0.2 in /usr/local/lib/python3.7/dist-packages (from requests<3.0.0,>=2.13.0->spacy==3.0.6->-r requirements.txt (line 11)) (3.0.4)\n",
            "Requirement already satisfied: certifi>=2017.4.17 in /usr/local/lib/python3.7/dist-packages (from requests<3.0.0,>=2.13.0->spacy==3.0.6->-r requirements.txt (line 11)) (2021.5.30)\n",
            "Requirement already satisfied: urllib3!=1.25.0,!=1.25.1,<1.26,>=1.21.1 in /usr/local/lib/python3.7/dist-packages (from requests<3.0.0,>=2.13.0->spacy==3.0.6->-r requirements.txt (line 11)) (1.24.3)\n",
            "Requirement already satisfied: idna<3,>=2.5 in /usr/local/lib/python3.7/dist-packages (from requests<3.0.0,>=2.13.0->spacy==3.0.6->-r requirements.txt (line 11)) (2.10)\n",
            "Requirement already satisfied: oauthlib>=3.0.0 in /usr/local/lib/python3.7/dist-packages (from requests-oauthlib>=0.7.0->google-auth-oauthlib<0.5,>=0.4.1->tensorboard==2.6.0->-r requirements.txt (line 13)) (3.1.1)\n",
            "Requirement already satisfied: MarkupSafe>=0.23 in /usr/local/lib/python3.7/dist-packages (from jinja2->spacy==3.0.6->-r requirements.txt (line 11)) (2.0.1)\n",
            "Installing collected packages: catalogue, typer, tqdm, srsly, regex, pydantic, threadpoolctl, thinc, spacy-legacy, scipy, pathy, nltk, spacy, scikit-learn, pandas, gensim\n",
            "  Attempting uninstall: catalogue\n",
            "    Found existing installation: catalogue 1.0.0\n",
            "    Uninstalling catalogue-1.0.0:\n",
            "      Successfully uninstalled catalogue-1.0.0\n",
            "  Attempting uninstall: tqdm\n",
            "    Found existing installation: tqdm 4.62.2\n",
            "    Uninstalling tqdm-4.62.2:\n",
            "      Successfully uninstalled tqdm-4.62.2\n",
            "  Attempting uninstall: srsly\n",
            "    Found existing installation: srsly 1.0.5\n",
            "    Uninstalling srsly-1.0.5:\n",
            "      Successfully uninstalled srsly-1.0.5\n",
            "  Attempting uninstall: regex\n",
            "    Found existing installation: regex 2019.12.20\n",
            "    Uninstalling regex-2019.12.20:\n",
            "      Successfully uninstalled regex-2019.12.20\n",
            "  Attempting uninstall: thinc\n",
            "    Found existing installation: thinc 7.4.0\n",
            "    Uninstalling thinc-7.4.0:\n",
            "      Successfully uninstalled thinc-7.4.0\n",
            "  Attempting uninstall: scipy\n",
            "    Found existing installation: scipy 1.4.1\n",
            "    Uninstalling scipy-1.4.1:\n",
            "      Successfully uninstalled scipy-1.4.1\n",
            "  Attempting uninstall: nltk\n",
            "    Found existing installation: nltk 3.2.5\n",
            "    Uninstalling nltk-3.2.5:\n",
            "      Successfully uninstalled nltk-3.2.5\n",
            "  Attempting uninstall: spacy\n",
            "    Found existing installation: spacy 2.2.4\n",
            "    Uninstalling spacy-2.2.4:\n",
            "      Successfully uninstalled spacy-2.2.4\n",
            "  Attempting uninstall: scikit-learn\n",
            "    Found existing installation: scikit-learn 0.22.2.post1\n",
            "    Uninstalling scikit-learn-0.22.2.post1:\n",
            "      Successfully uninstalled scikit-learn-0.22.2.post1\n",
            "  Attempting uninstall: pandas\n",
            "    Found existing installation: pandas 1.1.5\n",
            "    Uninstalling pandas-1.1.5:\n",
            "      Successfully uninstalled pandas-1.1.5\n",
            "  Attempting uninstall: gensim\n",
            "    Found existing installation: gensim 3.6.0\n",
            "    Uninstalling gensim-3.6.0:\n",
            "      Successfully uninstalled gensim-3.6.0\n",
            "\u001b[31mERROR: pip's dependency resolver does not currently take into account all the packages that are installed. This behaviour is the source of the following dependency conflicts.\n",
            "google-colab 1.0.0 requires pandas~=1.1.0; python_version >= \"3.0\", but you have pandas 1.2.1 which is incompatible.\n",
            "albumentations 0.1.12 requires imgaug<0.2.7,>=0.2.5, but you have imgaug 0.2.9 which is incompatible.\u001b[0m\n",
            "Successfully installed catalogue-2.0.6 gensim-4.1.2 nltk-3.6.2 pandas-1.2.1 pathy-0.6.0 pydantic-1.7.4 regex-2021.4.4 scikit-learn-0.24.2 scipy-1.6.3 spacy-3.0.6 spacy-legacy-3.0.5 srsly-2.4.1 thinc-8.0.10 threadpoolctl-2.2.0 tqdm-4.61.0 typer-0.3.2\n"
          ]
        },
        {
          "output_type": "display_data",
          "data": {
            "application/vnd.colab-display-data+json": {
              "pip_warning": {
                "packages": [
                  "pandas"
                ]
              }
            }
          },
          "metadata": {}
        }
      ]
    },
    {
      "cell_type": "markdown",
      "metadata": {
        "id": "jBLBSVHxufkE"
      },
      "source": [
        "## Experiment"
      ]
    },
    {
      "cell_type": "code",
      "metadata": {
        "colab": {
          "base_uri": "https://localhost:8080/"
        },
        "id": "j940dV6gM4hr",
        "outputId": "220f824b-32e8-4fea-b7cd-b28edc906bf5"
      },
      "source": [
        "!ls"
      ],
      "execution_count": 1,
      "outputs": [
        {
          "output_type": "stream",
          "name": "stdout",
          "text": [
            "drive  IF4072-WordRepresentation  rsa.txt  sample_data\n"
          ]
        }
      ]
    },
    {
      "cell_type": "code",
      "metadata": {
        "colab": {
          "base_uri": "https://localhost:8080/"
        },
        "id": "V7Tzth2dChQN",
        "outputId": "c65ee55b-2939-484e-b191-c4a557d69aea"
      },
      "source": [
        "%cd IF4072-WordRepresentation/"
      ],
      "execution_count": 2,
      "outputs": [
        {
          "output_type": "stream",
          "name": "stdout",
          "text": [
            "/content/IF4072-WordRepresentation\n"
          ]
        }
      ]
    },
    {
      "cell_type": "code",
      "metadata": {
        "id": "AlsBDApwuk8T",
        "colab": {
          "base_uri": "https://localhost:8080/"
        },
        "outputId": "ae4a558f-4471-4e25-d8a7-461b2b4b81dd"
      },
      "source": [
        "!sh run-w2v-example.sh"
      ],
      "execution_count": 3,
      "outputs": [
        {
          "output_type": "stream",
          "name": "stdout",
          "text": [
            "----------------------------------\n",
            "📝 Preparing Test run...\n",
            "🧪 exp1 : CBOW | window : 5 | learning rate : 0.001 \n",
            "2021-09-25 05:36:38.318193: I tensorflow/stream_executor/cuda/cuda_gpu_executor.cc:937] successful NUMA node read from SysFS had negative value (-1), but there must be at least one NUMA node, so returning NUMA node zero\n",
            "2021-09-25 05:36:38.704331: I tensorflow/stream_executor/cuda/cuda_gpu_executor.cc:937] successful NUMA node read from SysFS had negative value (-1), but there must be at least one NUMA node, so returning NUMA node zero\n",
            "2021-09-25 05:36:38.705181: I tensorflow/stream_executor/cuda/cuda_gpu_executor.cc:937] successful NUMA node read from SysFS had negative value (-1), but there must be at least one NUMA node, so returning NUMA node zero\n",
            "2021-09-25 05:36:38.706580: I tensorflow/stream_executor/cuda/cuda_gpu_executor.cc:937] successful NUMA node read from SysFS had negative value (-1), but there must be at least one NUMA node, so returning NUMA node zero\n",
            "2021-09-25 05:36:38.707522: I tensorflow/stream_executor/cuda/cuda_gpu_executor.cc:937] successful NUMA node read from SysFS had negative value (-1), but there must be at least one NUMA node, so returning NUMA node zero\n",
            "2021-09-25 05:36:38.708385: I tensorflow/stream_executor/cuda/cuda_gpu_executor.cc:937] successful NUMA node read from SysFS had negative value (-1), but there must be at least one NUMA node, so returning NUMA node zero\n",
            "2021-09-25 05:36:43.968580: I tensorflow/stream_executor/cuda/cuda_gpu_executor.cc:937] successful NUMA node read from SysFS had negative value (-1), but there must be at least one NUMA node, so returning NUMA node zero\n",
            "2021-09-25 05:36:43.969473: I tensorflow/stream_executor/cuda/cuda_gpu_executor.cc:937] successful NUMA node read from SysFS had negative value (-1), but there must be at least one NUMA node, so returning NUMA node zero\n",
            "2021-09-25 05:36:43.970233: I tensorflow/stream_executor/cuda/cuda_gpu_executor.cc:937] successful NUMA node read from SysFS had negative value (-1), but there must be at least one NUMA node, so returning NUMA node zero\n",
            "2021-09-25 05:36:43.971066: W tensorflow/core/common_runtime/gpu/gpu_bfc_allocator.cc:39] Overriding allow_growth setting because the TF_FORCE_GPU_ALLOW_GROWTH environment variable is set. Original config value was 0.\n",
            "2021-09-25 05:36:43.971137: I tensorflow/core/common_runtime/gpu/gpu_device.cc:1510] Created device /job:localhost/replica:0/task:0/device:GPU:0 with 10819 MB memory:  -> device: 0, name: Tesla K80, pci bus id: 0000:00:04.0, compute capability: 3.7\n",
            "Config:\n",
            "Types : 1\n",
            "Window : 5\n",
            "Epochs : 5\n",
            "Batch_size : 128\n",
            "Learning rate : 0.001\n",
            "Max Length : 128\n",
            "100% 16221/16221 [00:00<00:00, 45644.06it/s]\n",
            "100% 2800/2800 [00:00<00:00, 52453.62it/s]\n",
            "Tokenizing Training data...\n",
            "Time Taken: 0.4762\n",
            "Number of word vectors: 1000\n",
            "Time Taken: 4.3336\n",
            "Model: \"sequential\"\n",
            "_________________________________________________________________\n",
            "Layer (type)                 Output Shape              Param #   \n",
            "=================================================================\n",
            "embedding (Embedding)        (None, None, 100)         100000    \n",
            "_________________________________________________________________\n",
            "lstm (LSTM)                  (None, 64)                42240     \n",
            "_________________________________________________________________\n",
            "dropout (Dropout)            (None, 64)                0         \n",
            "_________________________________________________________________\n",
            "dense (Dense)                (None, 2)                 130       \n",
            "=================================================================\n",
            "Total params: 142,370\n",
            "Trainable params: 42,370\n",
            "Non-trainable params: 100,000\n",
            "_________________________________________________________________\n",
            "None\n",
            "2021-09-25 05:36:49.877320: I tensorflow/compiler/mlir/mlir_graph_optimization_pass.cc:185] None of the MLIR Optimization Passes are enabled (registered 2)\n",
            "Epoch 1/5\n",
            "2021-09-25 05:36:53.871274: I tensorflow/stream_executor/cuda/cuda_dnn.cc:369] Loaded cuDNN version 8005\n",
            "102/102 [==============================] - 22s 146ms/step - loss: 0.5566 - accuracy: 0.7330 - val_loss: 0.4871 - val_accuracy: 0.7772\n",
            "\n",
            "Epoch 00001: saving model to bin/w2v/w2v-clf-checkpoint.ckpt\n",
            "Epoch 2/5\n",
            "102/102 [==============================] - 14s 140ms/step - loss: 0.4641 - accuracy: 0.7974 - val_loss: 0.4644 - val_accuracy: 0.7892\n",
            "\n",
            "Epoch 00002: saving model to bin/w2v/w2v-clf-checkpoint.ckpt\n",
            "Epoch 3/5\n",
            "102/102 [==============================] - 14s 140ms/step - loss: 0.4373 - accuracy: 0.8110 - val_loss: 0.4356 - val_accuracy: 0.8040\n",
            "\n",
            "Epoch 00003: saving model to bin/w2v/w2v-clf-checkpoint.ckpt\n",
            "Epoch 4/5\n",
            "102/102 [==============================] - 14s 140ms/step - loss: 0.4132 - accuracy: 0.8211 - val_loss: 0.4129 - val_accuracy: 0.8123\n",
            "\n",
            "Epoch 00004: saving model to bin/w2v/w2v-clf-checkpoint.ckpt\n",
            "Epoch 5/5\n",
            "102/102 [==============================] - 14s 139ms/step - loss: 0.3962 - accuracy: 0.8306 - val_loss: 0.4033 - val_accuracy: 0.8216\n",
            "\n",
            "Epoch 00005: saving model to bin/w2v/w2v-clf-checkpoint.ckpt\n",
            "Tokenizing test data...\n",
            "Time Taken: 0.2725\n",
            "22/22 [==============================] - 1s 15ms/step\n",
            "Validation Score (Acc): 0.8178571428571428\n",
            "Saving classifier weight...\n",
            "Saving word2vec model...\n",
            "              precision    recall  f1-score   support\n",
            "\n",
            "           0      0.831     0.950     0.886      2093\n",
            "           1      0.742     0.427     0.542       707\n",
            "\n",
            "   micro avg      0.818     0.818     0.818      2800\n",
            "   macro avg      0.786     0.688     0.714      2800\n",
            "weighted avg      0.808     0.818     0.799      2800\n",
            " samples avg      0.818     0.818     0.818      2800\n",
            "\n",
            "Saving Error Snapshot...\n",
            "False Positive (Type II Error) : 105 / 2800\n",
            "False Negative (Type I Error) : 405 / 2800\n",
            "✅ Training complete. Happy learning ♥️.\n"
          ]
        }
      ]
    },
    {
      "cell_type": "code",
      "metadata": {
        "colab": {
          "base_uri": "https://localhost:8080/"
        },
        "id": "1EHKqODJr9eI",
        "outputId": "8e2f14bc-4301-40fa-bc27-4a1d4df0153c"
      },
      "source": [
        "!git checkout -b develop\n",
        "!git pull origin develop"
      ],
      "execution_count": 6,
      "outputs": [
        {
          "output_type": "stream",
          "name": "stdout",
          "text": [
            "fatal: A branch named 'develop' already exists.\n",
            "Warning: Permanently added the RSA host key for IP address '140.82.114.3' to the list of known hosts.\n",
            "remote: Enumerating objects: 25, done.\u001b[K\n",
            "remote: Counting objects: 100% (25/25), done.\u001b[K\n",
            "remote: Compressing objects: 100% (9/9), done.\u001b[K\n",
            "remote: Total 18 (delta 14), reused 13 (delta 9), pack-reused 0\u001b[K\n",
            "Unpacking objects: 100% (18/18), done.\n",
            "From github.com:stanleyyoga123/IF4072-WordRepresentation\n",
            " * branch            develop    -> FETCH_HEAD\n",
            "   8449650..cbe49d3  develop    -> origin/develop\n",
            "Updating 8449650..cbe49d3\n",
            "Fast-forward\n",
            " main.py                     |  2 \u001b[31m--\u001b[m\n",
            " run-w2v-example.sh          |  4 \u001b[32m++\u001b[m\u001b[31m--\u001b[m\n",
            " run-w2v.sh                  | 32 \u001b[32m++++++++\u001b[m\u001b[31m------------------------\u001b[m\n",
            " src/word_embedding/train.py |  2 \u001b[32m+\u001b[m\u001b[31m-\u001b[m\n",
            " 4 files changed, 11 insertions(+), 29 deletions(-)\n"
          ]
        }
      ]
    },
    {
      "cell_type": "code",
      "metadata": {
        "id": "iCNEk4lcNWhh"
      },
      "source": [
        "!sh run-w2v.sh"
      ],
      "execution_count": null,
      "outputs": []
    },
    {
      "cell_type": "markdown",
      "metadata": {
        "id": "8ETh0Ibkulsu"
      },
      "source": [
        "## Saving Result"
      ]
    },
    {
      "cell_type": "code",
      "metadata": {
        "id": "X6BoUCcgum-c",
        "colab": {
          "base_uri": "https://localhost:8080/"
        },
        "outputId": "9b3bba62-8618-4deb-f75f-6be87cdb16ad"
      },
      "source": [
        "!cp -r bin/* ../drive/MyDrive/NLP/bin "
      ],
      "execution_count": 11,
      "outputs": [
        {
          "output_type": "stream",
          "name": "stdout",
          "text": [
            "^C\n"
          ]
        }
      ]
    },
    {
      "cell_type": "code",
      "metadata": {
        "id": "9lvgmJRBOKCt"
      },
      "source": [
        ""
      ],
      "execution_count": null,
      "outputs": []
    }
  ]
}